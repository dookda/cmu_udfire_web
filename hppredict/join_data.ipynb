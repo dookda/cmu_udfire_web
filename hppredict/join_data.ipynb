{
 "cells": [
  {
   "cell_type": "code",
   "execution_count": 1,
   "id": "bf5366dd",
   "metadata": {},
   "outputs": [],
   "source": [
    "import pandas as pd\n",
    "import json\n",
    "\n",
    "def join_csv_to_geojson(csv_path, geojson_path, output_geojson_path):\n",
    "    # Load CSV data\n",
    "    csv_data = pd.read_csv(csv_path)\n",
    "    \n",
    "    # Load GeoJSON data\n",
    "    with open(geojson_path, 'r') as f:\n",
    "        geojson_data = json.load(f)\n",
    "    \n",
    "    # Create a dictionary for quick lookup of CSV data by study_area_id\n",
    "    csv_dict = {}\n",
    "    for _, row in csv_data.iterrows():\n",
    "        study_area_id = int(row['study_area_id'])  # Ensure ID is integer\n",
    "        if study_area_id not in csv_dict:\n",
    "            csv_dict[study_area_id] = []\n",
    "        csv_dict[study_area_id].append({\n",
    "            'date': row['date'],\n",
    "            'predicted_hotspot_count': row['predicted_hotspot_count']\n",
    "        })\n",
    "    \n",
    "    # Iterate through GeoJSON features and add CSV data to properties\n",
    "    for feature in geojson_data['features']:\n",
    "        feature_id = int(feature['properties']['id'])  # Ensure ID is integer\n",
    "        if feature_id in csv_dict:\n",
    "            # Add CSV data as a list of predictions under 'predictions' key\n",
    "            feature['properties']['predictions'] = csv_dict[feature_id]\n",
    "    \n",
    "    # Save updated GeoJSON to a new file\n",
    "    with open(output_geojson_path, 'w') as f:\n",
    "        json.dump(geojson_data, f, indent=2)\n",
    "\n",
    "# Example usage\n",
    "csv_path = 'new_area_predictions.csv'\n",
    "geojson_path = 'hex_forest_pro_4326.geojson'\n",
    "output_geojson_path = 'hex_forest_pro_4326_with_predictions.geojson'\n",
    "\n",
    "join_csv_to_geojson(\"predicted_hotspot.csv\", \"hex_forest_pro_4326.geojson\", \"hex_forest_pro_4326_with_predictions.geojson\")"
   ]
  },
  {
   "cell_type": "code",
   "execution_count": 1,
   "id": "8795f5ba",
   "metadata": {},
   "outputs": [
    {
     "name": "stdout",
     "output_type": "stream",
     "text": [
      "Removed 0 duplicate polygons.\n",
      "Saved unique features to hex_forest_pro_4326_predict.geojson\n"
     ]
    }
   ],
   "source": [
    "import json\n",
    "from shapely.geometry import shape, mapping\n",
    "\n",
    "def remove_duplicate_polygons(geojson_path, output_geojson_path):\n",
    "    # Load GeoJSON data\n",
    "    with open(geojson_path, 'r') as f:\n",
    "        geojson_data = json.load(f)\n",
    "    \n",
    "    # List to store unique features\n",
    "    unique_features = []\n",
    "    seen_geometries = set()\n",
    "    \n",
    "    # Iterate through features\n",
    "    for feature in geojson_data['features']:\n",
    "        # Convert GeoJSON geometry to Shapely geometry\n",
    "        geom = shape(feature['geometry'])\n",
    "        \n",
    "        # Convert geometry to a sorted tuple of coordinates for hashing\n",
    "        geom_tuple = tuple(sorted(mapping(geom)['coordinates']))\n",
    "        \n",
    "        # Check if geometry is already seen\n",
    "        if geom_tuple not in seen_geometries:\n",
    "            seen_geometries.add(geom_tuple)\n",
    "            unique_features.append(feature)\n",
    "    \n",
    "    # Update GeoJSON with unique features\n",
    "    geojson_data['features'] = unique_features\n",
    "    \n",
    "    # Save updated GeoJSON to a new file\n",
    "    with open(output_geojson_path, 'w') as f:\n",
    "        json.dump(geojson_data, f, indent=2)\n",
    "    \n",
    "    print(f\"Removed {len(geojson_data['features']) - len(unique_features)} duplicate polygons.\")\n",
    "    print(f\"Saved unique features to {output_geojson_path}\")\n",
    "\n",
    "# Example usage\n",
    "geojson_path = 'hex_forest_pro_4326_predict_old.geojson'\n",
    "output_geojson_path = 'hex_forest_pro_4326_predict.geojson'\n",
    "\n",
    "remove_duplicate_polygons(geojson_path, output_geojson_path)"
   ]
  }
 ],
 "metadata": {
  "kernelspec": {
   "display_name": "udfire",
   "language": "python",
   "name": "python3"
  },
  "language_info": {
   "codemirror_mode": {
    "name": "ipython",
    "version": 3
   },
   "file_extension": ".py",
   "mimetype": "text/x-python",
   "name": "python",
   "nbconvert_exporter": "python",
   "pygments_lexer": "ipython3",
   "version": "3.13.5"
  }
 },
 "nbformat": 4,
 "nbformat_minor": 5
}
